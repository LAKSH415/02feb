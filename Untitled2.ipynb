{
 "cells": [
  {
   "cell_type": "code",
   "execution_count": null,
   "id": "242732f0-bc00-432e-adb4-e71ceb902ed8",
   "metadata": {},
   "outputs": [],
   "source": [
    "# Q1\n",
    "n=int(input(\"Enter number:\"))\n",
    "sum=0\n",
    "for i in range(1,n+1):\n",
    "    sum=sum+i\n",
    "print(sum)"
   ]
  },
  {
   "cell_type": "code",
   "execution_count": null,
   "id": "176a5f32-96fa-4942-b729-b65860f03716",
   "metadata": {},
   "outputs": [],
   "source": [
    "# Q1\n",
    "n=int(input(\"Enter number:\"))\n",
    "sum=0\n",
    "while n>0:\n",
    "    sum=sum+n\n",
    "    n=n-1\n",
    "print(sum)"
   ]
  },
  {
   "cell_type": "code",
   "execution_count": null,
   "id": "28feafd8-c818-4f45-87b8-0e376765fe75",
   "metadata": {},
   "outputs": [],
   "source": [
    "# Q2\n",
    "sum=0\n",
    "product=1\n",
    "for i in range(1,11):\n",
    "    sum=sum+i\n",
    "    product=product*i\n",
    "print(sum,\" \",product)\n"
   ]
  },
  {
   "cell_type": "code",
   "execution_count": null,
   "id": "4a41f3ac-e7bf-4091-9dcd-edd753c5171c",
   "metadata": {},
   "outputs": [],
   "source": [
    "# Q2\n",
    "sum=0\n",
    "prod=1\n",
    "i=10\n",
    "while i>0:\n",
    "    sum=sum+i\n",
    "    prod=prod*i\n",
    "    i=i-1\n",
    "print(sum,\" \",prod)"
   ]
  },
  {
   "cell_type": "code",
   "execution_count": null,
   "id": "94140c8a-9a2d-4999-b940-b0633af4894f",
   "metadata": {},
   "outputs": [],
   "source": []
  },
  {
   "cell_type": "code",
   "execution_count": null,
   "id": "ebd80569-d481-406b-96cb-1c22d8ad83aa",
   "metadata": {},
   "outputs": [],
   "source": []
  },
  {
   "cell_type": "code",
   "execution_count": null,
   "id": "cc434e20-0285-4a2d-8a31-626ae49d05b8",
   "metadata": {},
   "outputs": [],
   "source": []
  }
 ],
 "metadata": {
  "kernelspec": {
   "display_name": "Python 3 (ipykernel)",
   "language": "python",
   "name": "python3"
  },
  "language_info": {
   "codemirror_mode": {
    "name": "ipython",
    "version": 3
   },
   "file_extension": ".py",
   "mimetype": "text/x-python",
   "name": "python",
   "nbconvert_exporter": "python",
   "pygments_lexer": "ipython3",
   "version": "3.10.8"
  }
 },
 "nbformat": 4,
 "nbformat_minor": 5
}
